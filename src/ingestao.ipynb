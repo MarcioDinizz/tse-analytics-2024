{
 "cells": [
  {
   "cell_type": "code",
   "execution_count": 14,
   "metadata": {},
   "outputs": [],
   "source": [
    "import json\n",
    "\n",
    "import pandas as pd\n",
    "import sqlalchemy\n",
    "# %%\n",
    "engine = sqlalchemy.create_engine(\"sqlite:///../data/database.db\")\n",
    "\n",
    "with open(\"ingestoes.json\") as open_file:\n",
    "     ingestoes = json.load(open_file)\n",
    "\n",
    "\n",
    "for i in ingestoes:\n",
    "\n",
    "    path = i['path']\n",
    "    df = pd.read_csv(path, encoding='latin-1', sep=\";\") \n",
    "    df.to_sql(i[\"table\"], engine, if_exists=\"replace\", index=False)   "
   ]
  },
  {
   "cell_type": "code",
   "execution_count": null,
   "metadata": {},
   "outputs": [],
   "source": []
  }
 ],
 "metadata": {
  "kernelspec": {
   "display_name": "base",
   "language": "python",
   "name": "python3"
  },
  "language_info": {
   "codemirror_mode": {
    "name": "ipython",
    "version": 3
   },
   "file_extension": ".py",
   "mimetype": "text/x-python",
   "name": "python",
   "nbconvert_exporter": "python",
   "pygments_lexer": "ipython3",
   "version": "3.9.13"
  }
 },
 "nbformat": 4,
 "nbformat_minor": 2
}
